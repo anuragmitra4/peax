{
 "cells": [
  {
   "cell_type": "markdown",
   "metadata": {},
   "source": [
    "# Pre-define Search Targets\n",
    "\n",
    "In this notebook we create the search database for the simulated ChIP-seq experiments and pre-define the search target automatically. This was used for the in-person user study. So the participants don't have to manually search for a region with the target pattern."
   ]
  },
  {
   "cell_type": "code",
   "execution_count": 1,
   "metadata": {},
   "outputs": [],
   "source": [
    "%load_ext autoreload\n",
    "%autoreload 2\n",
    "\n",
    "import os\n",
    "import sys\n",
    "\n",
    "# Enable importing modules from the parent directory\n",
    "module_path = os.path.abspath(os.path.join('..'))\n",
    "if module_path not in sys.path:\n",
    "    sys.path.append(module_path)\n",
    "module_path = os.path.abspath(os.path.join('../experiments'))\n",
    "if module_path not in sys.path:\n",
    "    sys.path.append(module_path)\n",
    "module_path = os.path.abspath(os.path.join('../server'))\n",
    "if module_path not in sys.path:\n",
    "    sys.path.append(module_path)"
   ]
  },
  {
   "cell_type": "code",
   "execution_count": 2,
   "metadata": {},
   "outputs": [
    {
     "name": "stdout",
     "output_type": "stream",
     "text": [
      "/Users/anuragmitra/peax/experiments/simulation\n"
     ]
    }
   ],
   "source": [
    "import json\n",
    "import sqlite3\n",
    "\n",
    "from server.config import Config\n",
    "from server.database import DB\n",
    "\n",
    "import os\n",
    "# cwd = os.chdir('simulation')\n",
    "cwd = os.getcwd()\n",
    "print(cwd)"
   ]
  },
  {
   "cell_type": "code",
   "execution_count": 3,
   "metadata": {},
   "outputs": [],
   "source": [
    "base = \"../../\"\n",
    "settings_filepath = \"config-user-study-simulation-3-targets.json\"\n",
    "window_size = 3000\n",
    "target_from = 7448500\n",
    "target_to   = 7451500\n",
    "num_searches_to_be_predefined = 10\n",
    "\n",
    "assert target_to - target_from == window_size\n",
    "\n",
    "with open(os.path.join(base, settings_filepath), \"r\") as f:\n",
    "    settings = json.load(f)"
   ]
  },
  {
   "cell_type": "markdown",
   "metadata": {},
   "source": [
    "**WARNING: Calling the next cell will wipe out the existing database!**"
   ]
  },
  {
   "cell_type": "code",
   "execution_count": 6,
   "metadata": {},
   "outputs": [
    {
     "data": {
      "application/vnd.jupyter.widget-view+json": {
       "model_id": "e158d7fb6b8d4f9db9eda9cf9fa3ef39",
       "version_major": 2,
       "version_minor": 0
      },
      "text/plain": [
       "Checkbox(value=False, description='Clear DB (Make sure you know what you do!)')"
      ]
     },
     "metadata": {},
     "output_type": "display_data"
    }
   ],
   "source": [
    "from ipywidgets.widgets import Checkbox\n",
    "\n",
    "clear_db = Checkbox(value=False, description='Clear DB (Make sure you know what you do!)')\n",
    "clear_db"
   ]
  },
  {
   "cell_type": "code",
   "execution_count": 7,
   "metadata": {},
   "outputs": [],
   "source": [
    "db_path = os.path.join(base, settings[\"db_path\"])\n",
    "\n",
    "if os.path.exists(db_path) and not clear_db.value:\n",
    "    print('Database already exist. Rename or delete first!')\n",
    "else:\n",
    "    # Clear DB!\n",
    "    os.remove(db_path)\n",
    "    DB(db_path=db_path, clear=True)\n",
    "\n",
    "    with sqlite3.connect(db_path) as db:\n",
    "        for search_id in range(1, num_searches_to_be_predefined + 1):\n",
    "            db.execute(\n",
    "                \"\"\"\n",
    "                    INSERT INTO\n",
    "                        search(id, target_from, target_to, config)\n",
    "                    VALUES\n",
    "                        (?, ?, ?, ?);\n",
    "                \"\"\",\n",
    "                (int(search_id), int(target_from), int(target_to), json.dumps(settings)),\n",
    "            )\n",
    "\n",
    "            db.commit()"
   ]
  },
  {
   "cell_type": "code",
   "execution_count": null,
   "metadata": {},
   "outputs": [],
   "source": []
  },
  {
   "cell_type": "code",
   "execution_count": null,
   "metadata": {},
   "outputs": [],
   "source": []
  }
 ],
 "metadata": {
  "kernelspec": {
   "display_name": "Python 3",
   "language": "python",
   "name": "python3"
  },
  "language_info": {
   "codemirror_mode": {
    "name": "ipython",
    "version": 3
   },
   "file_extension": ".py",
   "mimetype": "text/x-python",
   "name": "python",
   "nbconvert_exporter": "python",
   "pygments_lexer": "ipython3",
   "version": "3.7.6"
  }
 },
 "nbformat": 4,
 "nbformat_minor": 4
}
